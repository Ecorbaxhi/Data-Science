{
  "nbformat": 4,
  "nbformat_minor": 0,
  "metadata": {
    "colab": {
      "provenance": []
    },
    "kernelspec": {
      "name": "python3",
      "display_name": "Python 3"
    },
    "language_info": {
      "name": "python"
    }
  },
  "cells": [
    {
      "cell_type": "markdown",
      "source": [
        "### ERIS CORBAXHI TASK 1 - SOLUTIONS"
      ],
      "metadata": {
        "id": "LTjc798J93z7"
      }
    },
    {
      "cell_type": "code",
      "source": [
        "# Importing libraries\n",
        "\n",
        "import pandas as pd"
      ],
      "metadata": {
        "id": "CApZQJ6f-HpU"
      },
      "execution_count": 36,
      "outputs": []
    },
    {
      "cell_type": "code",
      "source": [
        "# Read the data file into Python as a pandas data frame\n",
        "\n",
        "from google.colab import drive\n",
        "drive.mount('/content/drive')\n",
        "\n",
        "df = pd.read_csv('/content/drive/MyDrive/Fall2024_FINC514/code/train.csv')"
      ],
      "metadata": {
        "colab": {
          "base_uri": "https://localhost:8080/"
        },
        "id": "tQoIPVN--WwI",
        "outputId": "7f8a63a7-dd23-431d-a0f6-e9c8d9898b7a"
      },
      "execution_count": 37,
      "outputs": [
        {
          "output_type": "stream",
          "name": "stdout",
          "text": [
            "Drive already mounted at /content/drive; to attempt to forcibly remount, call drive.mount(\"/content/drive\", force_remount=True).\n"
          ]
        }
      ]
    },
    {
      "cell_type": "code",
      "source": [
        "# A. [10pt]\n",
        "# Using Titanic train.csv dataset (same as HW1 and 2):\n",
        "# Use the \"survived\" as output, and \"pclass\", \"fare\", \"age\", \"sex\" as input variables.\n",
        "# Assuming we are running the analysis on \"predicting whether a person will survive\".\n",
        "# Please do proper cleaning and data transformation (one-hot encoding) on variables if necessary. (we did it in HW2)"
      ],
      "metadata": {
        "id": "A2eKzDkZYOa1"
      },
      "execution_count": null,
      "outputs": []
    },
    {
      "cell_type": "code",
      "source": [
        "# Checking for missing values\n",
        "for column in df.columns:\n",
        "  missing_values = df[column].isnull().sum()\n",
        "  if missing_values > 0:\n",
        "    print(f\"Variable '{column}' has {missing_values} missing values.\")\n",
        "  else:\n",
        "    print(f\"Variable '{column}' has no missing values.\")"
      ],
      "metadata": {
        "colab": {
          "base_uri": "https://localhost:8080/"
        },
        "id": "81zVwOZj__jf",
        "outputId": "74c7b527-00ea-4d99-ef24-bebca7215b92"
      },
      "execution_count": 38,
      "outputs": [
        {
          "output_type": "stream",
          "name": "stdout",
          "text": [
            "Variable 'PassengerId' has no missing values.\n",
            "Variable 'Survived' has no missing values.\n",
            "Variable 'Pclass' has no missing values.\n",
            "Variable 'Name' has no missing values.\n",
            "Variable 'Sex' has no missing values.\n",
            "Variable 'Age' has 177 missing values.\n",
            "Variable 'SibSp' has no missing values.\n",
            "Variable 'Parch' has no missing values.\n",
            "Variable 'Ticket' has no missing values.\n",
            "Variable 'Fare' has no missing values.\n",
            "Variable 'Cabin' has 687 missing values.\n",
            "Variable 'Embarked' has 2 missing values.\n"
          ]
        }
      ]
    },
    {
      "cell_type": "code",
      "source": [
        "# Creating a new DataFrame df_analysis by selecting requested columns from the existing DataFrame df.\n",
        "\n",
        "df_analysis = df[['Survived', 'Pclass', 'Sex', 'Age', 'Fare']]"
      ],
      "metadata": {
        "id": "ZuFctmUz-_Xy"
      },
      "execution_count": 39,
      "outputs": []
    },
    {
      "cell_type": "code",
      "source": [
        "for column in df_analysis.columns:\n",
        "  missing_values = df_analysis[column].isnull().sum()\n",
        "  if missing_values > 0:\n",
        "    print(f\"Variable '{column}' has {missing_values} missing values.\")\n",
        "  else:\n",
        "    print(f\"Variable '{column}' has no missing values.\")"
      ],
      "metadata": {
        "colab": {
          "base_uri": "https://localhost:8080/"
        },
        "id": "05m9e81T-W6q",
        "outputId": "3aacbdec-6cf4-4e14-be71-dff9d36b13c2"
      },
      "execution_count": 40,
      "outputs": [
        {
          "output_type": "stream",
          "name": "stdout",
          "text": [
            "Variable 'Survived' has no missing values.\n",
            "Variable 'Pclass' has no missing values.\n",
            "Variable 'Sex' has no missing values.\n",
            "Variable 'Age' has 177 missing values.\n",
            "Variable 'Fare' has no missing values.\n"
          ]
        }
      ]
    },
    {
      "cell_type": "code",
      "source": [
        "# Creating a new DataFrame df_analysis by removing rows from the original DataFrame df_analysis that contain missing values in the Age column.\n",
        "# df_analysis = df_analysis.dropna(subset=['Age'])\n",
        "\n",
        "# Handling missing values\n",
        "# Age: We will fill missing values with the avarage\n",
        "df_analysis['Age'] = df_analysis['Age'].fillna(df_analysis['Age'].mean())"
      ],
      "metadata": {
        "id": "V5MXBR5jBYtc",
        "colab": {
          "base_uri": "https://localhost:8080/"
        },
        "outputId": "ff3097ec-23d2-4467-e25f-be0e74e320c8"
      },
      "execution_count": 41,
      "outputs": [
        {
          "output_type": "stream",
          "name": "stderr",
          "text": [
            "<ipython-input-41-a3c2b9034128>:6: SettingWithCopyWarning: \n",
            "A value is trying to be set on a copy of a slice from a DataFrame.\n",
            "Try using .loc[row_indexer,col_indexer] = value instead\n",
            "\n",
            "See the caveats in the documentation: https://pandas.pydata.org/pandas-docs/stable/user_guide/indexing.html#returning-a-view-versus-a-copy\n",
            "  df_analysis['Age'] = df_analysis['Age'].fillna(df_analysis['Age'].mean())\n"
          ]
        }
      ]
    },
    {
      "cell_type": "code",
      "source": [
        "# Get a list of columns with data type 'object' (often used for categorical data)\n",
        "categorical_cols = df_analysis.select_dtypes(include=['object']).columns.tolist()\n",
        "\n",
        "# Print the list of categorical columns\n",
        "print(f\"Categorical columns in df_analysis: {categorical_cols}\")"
      ],
      "metadata": {
        "id": "RfcQ0XZkUaDK",
        "colab": {
          "base_uri": "https://localhost:8080/"
        },
        "outputId": "bbca52a5-e30c-40f1-bf72-a1bd300510a0"
      },
      "execution_count": 42,
      "outputs": [
        {
          "output_type": "stream",
          "name": "stdout",
          "text": [
            "Categorical columns in df_analysis: ['Sex']\n"
          ]
        }
      ]
    },
    {
      "cell_type": "code",
      "source": [
        "# Specifying which variable should be treated as categorical when performing various operations\n",
        "categorical_variables = ['Sex']\n",
        "\n",
        "# Apply one-hot encoding to categorical variables\n",
        "df_analysis = pd.get_dummies(df_analysis, columns=categorical_variables, dummy_na=False)"
      ],
      "metadata": {
        "id": "Ql2vdP2uBYmh"
      },
      "execution_count": 43,
      "outputs": []
    },
    {
      "cell_type": "code",
      "source": [
        "print(df_analysis.head())"
      ],
      "metadata": {
        "colab": {
          "base_uri": "https://localhost:8080/"
        },
        "id": "BNmTLvzMBYXl",
        "outputId": "eaafdf27-1104-4f06-9e0f-aa5f5d41a20c"
      },
      "execution_count": 44,
      "outputs": [
        {
          "output_type": "stream",
          "name": "stdout",
          "text": [
            "   Survived  Pclass   Age     Fare  Sex_female  Sex_male\n",
            "0         0       3  22.0   7.2500       False      True\n",
            "1         1       1  38.0  71.2833        True     False\n",
            "2         1       3  26.0   7.9250        True     False\n",
            "3         1       1  35.0  53.1000        True     False\n",
            "4         0       3  35.0   8.0500       False      True\n"
          ]
        }
      ]
    },
    {
      "cell_type": "code",
      "source": [
        "# B. [50pt]\n",
        "# Use the training/testing method on 3 models - logistic regression,decision tree, and SVM.\n",
        "# (You can use 80% for training, and 20% for testing)\n",
        "#[10pt] Train each model\n",
        "#[15pt] Print the accuracy score for each model\n",
        "#[5pt] Pick the best model based on accuray score of the testing dataset."
      ],
      "metadata": {
        "id": "gKexWI5xCkiD"
      },
      "execution_count": null,
      "outputs": []
    },
    {
      "cell_type": "code",
      "source": [
        "# Importing necessary libraries\n",
        "from sklearn.model_selection import train_test_split\n",
        "from sklearn.linear_model import LogisticRegression\n",
        "from sklearn.tree import DecisionTreeClassifier\n",
        "from sklearn.svm import SVC\n",
        "from sklearn.metrics import accuracy_score\n",
        "import pandas as pd\n",
        "\n",
        "\n",
        "# Splitting the dataset into features and target variable\n",
        "X = df_analysis[['Pclass', 'Age', 'Fare', 'Sex_female', 'Sex_male']]\n",
        "y = df_analysis['Survived']\n",
        "\n",
        "# Splitting the dataset into training (80%) and testing (20%) sets\n",
        "X_train, X_test, y_train, y_test = train_test_split(X, y, test_size=0.2, random_state=42)\n",
        "\n"
      ],
      "metadata": {
        "id": "vo-gCwPVCkZy"
      },
      "execution_count": 45,
      "outputs": []
    },
    {
      "cell_type": "markdown",
      "source": [
        "Logistic Regression"
      ],
      "metadata": {
        "id": "zi1EajQ9Xgtr"
      }
    },
    {
      "cell_type": "code",
      "source": [
        "# Initializing models\n",
        "log_reg = LogisticRegression()\n",
        "\n",
        "# Training the models\n",
        "log_reg.fit(X_train, y_train)\n",
        "\n",
        "# Making predictions\n",
        "log_reg_pred = log_reg.predict(X_test)\n",
        "\n",
        "# Calculating accuracy scores\n",
        "log_reg_acc = accuracy_score(y_test, log_reg_pred)\n",
        "\n",
        "# Printing accuracy scores for each model\n",
        "log_reg_acc"
      ],
      "metadata": {
        "colab": {
          "base_uri": "https://localhost:8080/"
        },
        "id": "dlMZq8sUCkMo",
        "outputId": "90964d32-cf1c-488a-a63a-706f9154ae50"
      },
      "execution_count": 46,
      "outputs": [
        {
          "output_type": "execute_result",
          "data": {
            "text/plain": [
              "0.8044692737430168"
            ]
          },
          "metadata": {},
          "execution_count": 46
        }
      ]
    },
    {
      "cell_type": "markdown",
      "source": [
        "Decision Tree"
      ],
      "metadata": {
        "id": "eT36sFARXl8F"
      }
    },
    {
      "cell_type": "code",
      "source": [
        "# Applying Decision tree model\n",
        "# Initializing models\n",
        "dec_tree = DecisionTreeClassifier()\n",
        "\n",
        "# Training the models\n",
        "dec_tree.fit(X_train, y_train)\n",
        "\n",
        "# Making predictions\n",
        "dec_tree_pred = dec_tree.predict(X_test)\n",
        "\n",
        "# Calculating accuracy scores\n",
        "dec_tree_acc = accuracy_score(y_test, dec_tree_pred)\n",
        "\n",
        "# Printing accuracy scores for each model\n",
        "dec_tree_acc"
      ],
      "metadata": {
        "colab": {
          "base_uri": "https://localhost:8080/"
        },
        "id": "RYCjbjplFV5-",
        "outputId": "c7f51452-9566-4d1a-889a-41ba55c54a0c"
      },
      "execution_count": 47,
      "outputs": [
        {
          "output_type": "execute_result",
          "data": {
            "text/plain": [
              "0.7374301675977654"
            ]
          },
          "metadata": {},
          "execution_count": 47
        }
      ]
    },
    {
      "cell_type": "markdown",
      "source": [
        "SVM (Support Vector Machines)"
      ],
      "metadata": {
        "id": "d50_pMy3XqV5"
      }
    },
    {
      "cell_type": "code",
      "source": [
        "# Initializing models\n",
        "svm_model = SVC()\n",
        "\n",
        "# Training the models\n",
        "svm_model.fit(X_train, y_train)\n",
        "\n",
        "# Making predictions\n",
        "svm_pred = svm_model.predict(X_test)\n",
        "\n",
        "# Calculating accuracy scores\n",
        "svm_acc = accuracy_score(y_test, svm_pred)\n",
        "\n",
        "# Printing accuracy scores for each model\n",
        "svm_acc"
      ],
      "metadata": {
        "colab": {
          "base_uri": "https://localhost:8080/"
        },
        "id": "hp-MauDGFVvL",
        "outputId": "d25ab418-f6db-4db2-ad9c-79b48d023ac7"
      },
      "execution_count": 48,
      "outputs": [
        {
          "output_type": "execute_result",
          "data": {
            "text/plain": [
              "0.6536312849162011"
            ]
          },
          "metadata": {},
          "execution_count": 48
        }
      ]
    },
    {
      "cell_type": "code",
      "source": [
        "# The best regression is the Logistic Regression model as it provides the highest value of accuracy"
      ],
      "metadata": {
        "id": "yWJMCy9Mjk1K"
      },
      "execution_count": null,
      "outputs": []
    },
    {
      "cell_type": "markdown",
      "source": [
        "Cross validation with 6 folds on 3 models"
      ],
      "metadata": {
        "id": "-vtJc9L7L9A3"
      }
    },
    {
      "cell_type": "code",
      "source": [
        "# C.\n",
        "#[20pt] Use cross validation with 6 folds on 3 models - logistic regression,decision tree, and SVM.\n",
        "#[10pt] Train each model using cross validation.\n",
        "#[15pt] Get the accuracy score for each model\n",
        "#[5pt] Pick the best model"
      ],
      "metadata": {
        "id": "NOP8dNmvD0uo"
      },
      "execution_count": null,
      "outputs": []
    },
    {
      "cell_type": "code",
      "source": [
        "# Importing necessary libraries\n",
        "\n",
        "from sklearn.model_selection import cross_val_score\n",
        "from sklearn.model_selection import KFold\n",
        "from sklearn.preprocessing import OneHotEncoder\n",
        "from sklearn.compose import ColumnTransformer\n",
        "from sklearn.pipeline import Pipeline\n",
        "from sklearn.impute import SimpleImputer\n",
        "\n",
        "# Select relevant columns for the model\n",
        "features = ['Pclass', 'Age', 'Fare', 'Sex']\n",
        "target = 'Survived'\n"
      ],
      "metadata": {
        "id": "u5TwrwITD0nu"
      },
      "execution_count": 49,
      "outputs": []
    },
    {
      "cell_type": "code",
      "source": [
        "# Preprocessing: one-hot encoding for categorical features and handling missing values\n",
        "numeric_features = ['Pclass', 'Age', 'Fare']\n",
        "categorical_features = ['Sex']\n",
        "\n",
        "# Build preprocessing pipeline\n",
        "preprocessor = ColumnTransformer(\n",
        "    transformers=[\n",
        "        ('num', SimpleImputer(strategy='mean'), numeric_features),\n",
        "        ('cat', Pipeline(steps=[\n",
        "            ('imputer', SimpleImputer(strategy='most_frequent')),\n",
        "            ('onehot', OneHotEncoder(drop='first'))]), categorical_features)\n",
        "    ])"
      ],
      "metadata": {
        "id": "3bvuGuE8IP00"
      },
      "execution_count": 50,
      "outputs": []
    },
    {
      "cell_type": "code",
      "source": [
        "# Prepare models for evaluation\n",
        "models = {\n",
        "    \"Logistic Regression\": LogisticRegression(max_iter=200),\n",
        "    \"Decision Tree\": DecisionTreeClassifier(),\n",
        "    \"SVM\": SVC(),\n",
        "}\n",
        "\n",
        "# Initialize cross-validation\n",
        "kf = KFold(n_splits=6, shuffle=True, random_state=42)\n",
        "\n",
        "# Store results for comparison\n",
        "results = {}\n",
        "\n",
        "# Perform cross-validation on each model\n",
        "for model_name, model in models.items():\n",
        "    # Create pipeline with preprocessing and model\n",
        "    clf = Pipeline(steps=[('preprocessor', preprocessor), ('classifier', model)])\n",
        "\n",
        "    # Perform cross-validation and store accuracy scores\n",
        "    cv_results = cross_val_score(clf, df[features], df[target], cv=kf, scoring='accuracy')\n",
        "    results[model_name] = cv_results.mean()\n"
      ],
      "metadata": {
        "id": "iFF9g5L1IbB2"
      },
      "execution_count": 51,
      "outputs": []
    },
    {
      "cell_type": "code",
      "source": [
        "# Find the best model based on accuracy\n",
        "best_model = max(results, key=results.get)\n",
        "\n",
        "# Display the results\n",
        "print(\"Model Evaluation Results:\")\n",
        "for model, accuracy in results.items():\n",
        "    print(f\"{model}: {accuracy:.4f}\")\n",
        "\n",
        "print(f\"\\nBest Model: {best_model}\")"
      ],
      "metadata": {
        "colab": {
          "base_uri": "https://localhost:8080/"
        },
        "id": "aEO6lwMFIsKa",
        "outputId": "0fb9810f-cc39-4b3b-b1bf-29165705f210"
      },
      "execution_count": 52,
      "outputs": [
        {
          "output_type": "stream",
          "name": "stdout",
          "text": [
            "Model Evaluation Results:\n",
            "Logistic Regression: 0.7789\n",
            "Decision Tree: 0.7711\n",
            "SVM: 0.6733\n",
            "\n",
            "Best Model: Logistic Regression\n"
          ]
        }
      ]
    },
    {
      "cell_type": "code",
      "source": [
        "# The best regression is the Logistic Regression model as it provides the highest value of accuracy"
      ],
      "metadata": {
        "id": "VSUy2EhzD0bs"
      },
      "execution_count": null,
      "outputs": []
    },
    {
      "cell_type": "markdown",
      "source": [
        "### ERIS CORBAXHI TASK 2 - SOLUTIONS"
      ],
      "metadata": {
        "id": "nmUH7T3wMMG0"
      }
    },
    {
      "cell_type": "code",
      "source": [
        "# [20pt]: Regression Model Selection\n",
        "\n",
        "# In the last homework, we built a linear regression model\n",
        "# using Fare as dependent varaible, and Survived, Pclass, Sex, Age, Embarked as independent variables.\n",
        "# Please run this model again and get mean squared error.\n",
        "# Run the model by removing 1 or 2 variables (you pick which to remove), and see the mean squared error.\n",
        "# Is removing the variables improve your model performance?"
      ],
      "metadata": {
        "id": "-WuklCnLI9rn"
      },
      "execution_count": null,
      "outputs": []
    },
    {
      "cell_type": "code",
      "source": [
        "# In the last homework, we built a linear regression model\n",
        "# using Fare as dependent varaible, and Survived, Pclass, Sex, Age, Embarked as independent variables.df = pd.read_csv('/content/drive/MyDrive/Fall2024_FINC514/code/train.csv')\n",
        "\n",
        "df_analysis = df[['Survived', 'Pclass', 'Sex', 'Age', 'Fare', 'Embarked']]\n",
        "\n",
        "df_analysis = df_analysis.dropna(subset=['Embarked'])\n",
        "\n",
        "# Calculate the average age and fare\n",
        "average_age = df_analysis['Age'].mean()\n",
        "\n",
        "# Fill missing values in 'Age' with the average age\n",
        "df_analysis = df_analysis.assign(Age=df_analysis['Age'].fillna(average_age))\n",
        "\n",
        "# Identify categorical variables\n",
        "categorical_variables = ['Sex', 'Embarked']\n",
        "\n",
        "# Apply one-hot encoding to categorical variables\n",
        "df_analysis = pd.get_dummies(df_analysis, columns=categorical_variables, dummy_na=False)\n",
        "\n",
        "print(df_analysis)\n",
        "print(f\"Number of observations in the dataset: {len(df_analysis)}\")"
      ],
      "metadata": {
        "colab": {
          "base_uri": "https://localhost:8080/"
        },
        "id": "9p7WT9ZaeAQa",
        "outputId": "f0cbc9ee-631e-4711-e3be-fbba33f87622"
      },
      "execution_count": 53,
      "outputs": [
        {
          "output_type": "stream",
          "name": "stdout",
          "text": [
            "     Survived  Pclass        Age     Fare  Sex_female  Sex_male  Embarked_C  \\\n",
            "0           0       3  22.000000   7.2500       False      True       False   \n",
            "1           1       1  38.000000  71.2833        True     False        True   \n",
            "2           1       3  26.000000   7.9250        True     False       False   \n",
            "3           1       1  35.000000  53.1000        True     False       False   \n",
            "4           0       3  35.000000   8.0500       False      True       False   \n",
            "..        ...     ...        ...      ...         ...       ...         ...   \n",
            "886         0       2  27.000000  13.0000       False      True       False   \n",
            "887         1       1  19.000000  30.0000        True     False       False   \n",
            "888         0       3  29.642093  23.4500        True     False       False   \n",
            "889         1       1  26.000000  30.0000       False      True        True   \n",
            "890         0       3  32.000000   7.7500       False      True       False   \n",
            "\n",
            "     Embarked_Q  Embarked_S  \n",
            "0         False        True  \n",
            "1         False       False  \n",
            "2         False        True  \n",
            "3         False        True  \n",
            "4         False        True  \n",
            "..          ...         ...  \n",
            "886       False        True  \n",
            "887       False        True  \n",
            "888       False        True  \n",
            "889       False       False  \n",
            "890        True       False  \n",
            "\n",
            "[889 rows x 9 columns]\n",
            "Number of observations in the dataset: 889\n"
          ]
        }
      ]
    },
    {
      "cell_type": "code",
      "source": [
        "# Please run this model again and get mean squared error.\n",
        "\n",
        "import statsmodels.formula.api as sm\n",
        "from sklearn.metrics import mean_squared_error\n",
        "\n",
        "# Define the formula for the linear regression model\n",
        "formula = 'Fare ~ Survived + Pclass + Age'\n",
        "\n",
        "# Fit the linear regression model\n",
        "model = sm.ols(formula, data=df_analysis).fit()\n",
        "\n",
        "# Print the model summary\n",
        "print(model.summary())\n",
        "\n",
        "# Get the number of observations used in the analysis\n",
        "n_observations = len(df_analysis)\n",
        "print(f\"Number of observations: {n_observations}\")\n",
        "\n",
        "# Calculate the predicted values\n",
        "predicted = model.fittedvalues\n",
        "\n",
        "# Calculate the Mean Squared Error (MSE)\n",
        "mse = mean_squared_error(df_analysis['Fare'], predicted)\n",
        "\n",
        "# Print the MSE\n",
        "print(f\"Mean Squared Error: {mse}\")\n"
      ],
      "metadata": {
        "colab": {
          "base_uri": "https://localhost:8080/"
        },
        "id": "FUwPVK1WiDed",
        "outputId": "704197da-d516-4077-8316-384d6d781204"
      },
      "execution_count": 54,
      "outputs": [
        {
          "output_type": "stream",
          "name": "stdout",
          "text": [
            "                            OLS Regression Results                            \n",
            "==============================================================================\n",
            "Dep. Variable:                   Fare   R-squared:                       0.313\n",
            "Model:                            OLS   Adj. R-squared:                  0.311\n",
            "Method:                 Least Squares   F-statistic:                     134.4\n",
            "Date:                Wed, 16 Oct 2024   Prob (F-statistic):           9.06e-72\n",
            "Time:                        16:52:20   Log-Likelihood:                -4566.4\n",
            "No. Observations:                 889   AIC:                             9141.\n",
            "Df Residuals:                     885   BIC:                             9160.\n",
            "Df Model:                           3                                         \n",
            "Covariance Type:            nonrobust                                         \n",
            "==============================================================================\n",
            "                 coef    std err          t      P>|t|      [0.025      0.975]\n",
            "------------------------------------------------------------------------------\n",
            "Intercept    116.4678      7.163     16.261      0.000     102.410     130.525\n",
            "Survived       6.3158      3.090      2.044      0.041       0.251      12.380\n",
            "Pclass       -33.1515      1.900    -17.445      0.000     -36.881     -29.422\n",
            "Age           -0.3426      0.116     -2.965      0.003      -0.569      -0.116\n",
            "==============================================================================\n",
            "Omnibus:                      968.994   Durbin-Watson:                   2.020\n",
            "Prob(Omnibus):                  0.000   Jarque-Bera (JB):            77145.769\n",
            "Skew:                           5.170   Prob(JB):                         0.00\n",
            "Kurtosis:                      47.450   Cond. No.                         176.\n",
            "==============================================================================\n",
            "\n",
            "Notes:\n",
            "[1] Standard Errors assume that the covariance matrix of the errors is correctly specified.\n",
            "Number of observations: 889\n",
            "Mean Squared Error: 1694.690065996858\n"
          ]
        }
      ]
    },
    {
      "cell_type": "code",
      "source": [
        "import statsmodels.formula.api as sm\n",
        "from sklearn.metrics import mean_squared_error\n",
        "\n",
        "# Define the formula without 'Age' and 'Survived'\n",
        "formula = 'Fare ~ Pclass'\n",
        "\n",
        "# Fit the linear regression model\n",
        "model_no_age_survived = sm.ols(formula, data=df_analysis).fit()\n",
        "\n",
        "# Print the model summary\n",
        "print(model_no_age_survived.summary())\n",
        "\n",
        "# Calculate the predicted values\n",
        "predicted_no_age_survived = model_no_age_survived.fittedvalues\n",
        "\n",
        "# Calculate the Mean Squared Error (MSE) without 'Age' and 'Survived'\n",
        "mse_no_age_survived = mean_squared_error(df_analysis['Fare'], predicted_no_age_survived)\n",
        "\n",
        "# Print the MSE\n",
        "print(f\"Mean Squared Error (without 'Age' and 'Survived'): {mse_no_age_survived}\")\n"
      ],
      "metadata": {
        "colab": {
          "base_uri": "https://localhost:8080/"
        },
        "id": "TJq1-5tCjlz7",
        "outputId": "8f916e59-062f-43f0-c066-bdc28d20944a"
      },
      "execution_count": 55,
      "outputs": [
        {
          "output_type": "stream",
          "name": "stdout",
          "text": [
            "                            OLS Regression Results                            \n",
            "==============================================================================\n",
            "Dep. Variable:                   Fare   R-squared:                       0.301\n",
            "Model:                            OLS   Adj. R-squared:                  0.300\n",
            "Method:                 Least Squares   F-statistic:                     381.1\n",
            "Date:                Wed, 16 Oct 2024   Prob (F-statistic):           7.03e-71\n",
            "Time:                        16:52:25   Log-Likelihood:                -4574.5\n",
            "No. Observations:                 889   AIC:                             9153.\n",
            "Df Residuals:                     887   BIC:                             9163.\n",
            "Df Model:                           1                                         \n",
            "Covariance Type:            nonrobust                                         \n",
            "==============================================================================\n",
            "                 coef    std err          t      P>|t|      [0.025      0.975]\n",
            "------------------------------------------------------------------------------\n",
            "Intercept    107.5447      4.109     26.174      0.000      99.480     115.609\n",
            "Pclass       -32.6391      1.672    -19.521      0.000     -35.921     -29.358\n",
            "==============================================================================\n",
            "Omnibus:                      965.060   Durbin-Watson:                   2.013\n",
            "Prob(Omnibus):                  0.000   Jarque-Bera (JB):            75585.125\n",
            "Skew:                           5.140   Prob(JB):                         0.00\n",
            "Kurtosis:                      46.987   Cond. No.                         8.32\n",
            "==============================================================================\n",
            "\n",
            "Notes:\n",
            "[1] Standard Errors assume that the covariance matrix of the errors is correctly specified.\n",
            "Mean Squared Error (without 'Age' and 'Survived'): 1725.6718934471996\n"
          ]
        }
      ]
    },
    {
      "cell_type": "code",
      "source": [
        "# The first model has a lower MSE (1694.69), meaning the predictions are generally more accurate.\n",
        "# The second model has a higher MSE (1725.67), indicating slightly worse prediction accuracy.\n",
        "# Since the goal is to minimize the MSE, the first model performs better.\n",
        "# Removing the variables 'Survived' and 'Age' slightly worsens the model's performance.\n",
        "# The first model, which includes these variables, has better predictive accuracy (lower MSE) and a better fit (higher R-squared, lower AIC/BIC).\n",
        "#Therefore, removing 'Survived' and 'Age' does not improve the model performance, and it's better to keep them in the model."
      ],
      "metadata": {
        "id": "IeZZBlbm4xRt"
      },
      "execution_count": null,
      "outputs": []
    }
  ]
}